{
 "cells": [
  {
   "cell_type": "code",
   "execution_count": 0,
   "metadata": {
    "application/vnd.databricks.v1+cell": {
     "cellMetadata": {
      "byteLimit": 2048000,
      "rowLimit": 10000
     },
     "inputWidgets": {},
     "nuid": "346f3db1-71b1-4a90-88e6-a4687c2b4432",
     "showTitle": false,
     "tableResultSettingsMap": {},
     "title": ""
    }
   },
   "outputs": [],
   "source": [
    "import os\n",
    "import pyspark\n",
    "from pyspark.sql import SparkSession\n",
    "\n",
    "\n",
    "POLARIS_ANALYST_CLIENT_ID = \"Zi9UPTx4lAdloUFmCKQFUnXGEys=\"\n",
    "POLARIS_ANALYST_CLIENT_SECRET = \"OL3Qj92Dw/C1u6/w/Ws4a7Dwb3mKM9wkl2HKWhbRX+g=\"\n",
    "WAREHOUSE = 'SNOW_CATALOG'\n",
    "PRINCIPAL_ANALYST_ROLE = 'PRINCIPAL_ROLE'\n",
    "\n",
    "try:\n",
    "    spark = SparkSession.builder.appName('iceberg') \\\n",
    "        .config('spark.jars.packages', 'org.apache.iceberg:iceberg-spark-runtime-3.5_2.12:1.4.1,software.amazon.awssdk:bundle:2.20.160,software.amazon.awssdk:url-connection-client:2.20.160') \\\n",
    "        .config('spark.sql.extensions', 'org.apache.iceberg.spark.extensions.IcebergSparkSessionExtensions') \\\n",
    "        .config('spark.sql.defaultCatalog', 'polaris') \\\n",
    "        .config('spark.sql.catalog.polaris', 'org.apache.iceberg.spark.SparkCatalog') \\\n",
    "        .config('spark.sql.iceberg.vectorization.enabled', 'false') \\\n",
    "        .config('spark.sql.catalog.polaris.type', 'rest') \\\n",
    "        .config('spark.sql.catalog.polaris.header.X-Iceberg-Access-Delegation', 'vended-credentials') \\\n",
    "        .config('spark.sql.catalog.polaris.uri', f\"https://oincilx-ta_user_polaris_east.snowflakecomputing.com/polaris/api/catalog\") \\\n",
    "        .config('spark.sql.catalog.polaris.credential', f\"{POLARIS_ANALYST_CLIENT_ID}:{POLARIS_ANALYST_CLIENT_SECRET}\") \\\n",
    "        .config('spark.sql.catalog.polaris.warehouse', f\"{WAREHOUSE}\") \\\n",
    "        .config('spark.sql.catalog.polaris.scope', f\"PRINCIPAL_ROLE:{PRINCIPAL_ANALYST_ROLE}\") \\\n",
    "        .config('spark.sql.catalog.polaris.client.region','us-east-2') \\\n",
    "        .getOrCreate()\n",
    "    spark.sql(\"show catalogs\").show()\n",
    "    #spark.sql(\"show namespaces in polaris\").show()\n",
    "    #spark.sql(\"use database SF_POLARIS_DB\").show()\n",
    "    #spark.sql(\"SHOW  SCHEMAS IN polaris\").show()\n",
    "    #spark.sql(\"USE NAMESPACE  SF_POLARIS_DB.SF_POLARIS_SCHEMA\").show()\n",
    "    #spark.sql(\"SHOW TABLES\").show()\n",
    "    #spark.sql(\"SELECT * FROM SF_POLARIS_DB.SF_POLARIS_SCHEMA.EMPLOYEE\").show()\n",
    "    #spark.sql(\"INSERT INTO SF_POLARIS_DB.SF_POLARIS_SCHEMA.EMPLOYEE values (1,'udaya')\").show()\n",
    "    #spark.sql(\"SELECT * FROM SF_POLARIS_DB.SF_POLARIS_SCHEMA.EMPLOYEE\").show()\n",
    "    #spark.sql(\"select * from SF_POLARIS_DB.SF_POLARIS_SCHEMA.EMPLOYEE\").show()\n",
    "    #spark.sql(\"select * from DASH_DB.RAW.STREAMING_VEHICLE_EVENTS\").show(10, truncate = False)\n",
    "except Exception as e:\n",
    "      print(e)"
   ]
  }
 ],
 "metadata": {
  "application/vnd.databricks.v1+notebook": {
   "computePreferences": null,
   "dashboards": [],
   "environmentMetadata": {
    "base_environment": "",
    "environment_version": "2"
   },
   "inputWidgetPreferences": null,
   "language": "python",
   "notebookMetadata": {
    "pythonIndentUnit": 4
   },
   "notebookName": "test_polaris_catalog",
   "widgets": {}
  },
  "language_info": {
   "name": "python"
  }
 },
 "nbformat": 4,
 "nbformat_minor": 0
}
